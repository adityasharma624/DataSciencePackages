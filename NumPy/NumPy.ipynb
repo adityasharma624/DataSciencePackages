{
 "cells": [
  {
   "cell_type": "markdown",
   "id": "5905d6c7-451d-4e09-beba-735d52357fce",
   "metadata": {},
   "source": [
    "### NumPy\n",
    "- Library for working with arrays\n",
    "- support for n-dimensional arrays\n",
    "- useful in data science"
   ]
  },
  {
   "cell_type": "code",
   "execution_count": 2,
   "id": "75f60a4a-45d3-445f-b27f-5b4e9050e3b8",
   "metadata": {},
   "outputs": [
    {
     "name": "stdout",
     "output_type": "stream",
     "text": [
      "Requirement already satisfied: numpy in c:\\python312\\lib\\site-packages (1.26.4)\n"
     ]
    }
   ],
   "source": [
    "!pip install numpy"
   ]
  },
  {
   "cell_type": "code",
   "execution_count": 3,
   "id": "66a7414f-b195-4b65-834e-9e590e5c47de",
   "metadata": {},
   "outputs": [],
   "source": [
    "import numpy as np"
   ]
  },
  {
   "cell_type": "markdown",
   "id": "19c38cd8-acca-4fc7-b0f2-fcd77cc833ba",
   "metadata": {},
   "source": [
    "### 1. Create"
   ]
  },
  {
   "cell_type": "code",
   "execution_count": 4,
   "id": "9e56ba8d-503e-4fac-af1c-c365d6a724e2",
   "metadata": {},
   "outputs": [],
   "source": [
    "data = np.random.rand(2,3,4)\n",
    "zeroes = np.zeros((2,2,2))\n",
    "full = np.full((2,2,2),7)\n",
    "ones = np.ones((2,2,2))"
   ]
  },
  {
   "cell_type": "code",
   "execution_count": 9,
   "id": "cfcf6565-8a39-4946-acc4-17dd210b5e5c",
   "metadata": {},
   "outputs": [
    {
     "data": {
      "text/plain": [
       "array([[[1., 1.],\n",
       "        [1., 1.]],\n",
       "\n",
       "       [[1., 1.],\n",
       "        [1., 1.]]])"
      ]
     },
     "execution_count": 9,
     "metadata": {},
     "output_type": "execute_result"
    }
   ],
   "source": [
    "ones"
   ]
  },
  {
   "cell_type": "code",
   "execution_count": 10,
   "id": "4364e6b4-9f5e-4136-9ceb-a64f8768592f",
   "metadata": {},
   "outputs": [],
   "source": [
    "arr = np.array([[1,2,3,4],[1,2,3,4]])"
   ]
  },
  {
   "cell_type": "code",
   "execution_count": 12,
   "id": "27cc69c3-346d-4367-abe4-6ac8b44a304f",
   "metadata": {},
   "outputs": [
    {
     "data": {
      "text/plain": [
       "numpy.ndarray"
      ]
     },
     "execution_count": 12,
     "metadata": {},
     "output_type": "execute_result"
    }
   ],
   "source": [
    "type(arr)"
   ]
  },
  {
   "cell_type": "code",
   "execution_count": null,
   "id": "c17653d9-3198-4d31-bba5-2e4aba9af80d",
   "metadata": {},
   "outputs": [],
   "source": []
  },
  {
   "cell_type": "markdown",
   "id": "46abafa3-a9bf-42df-95df-bac86f26fe0d",
   "metadata": {},
   "source": [
    "### 2. Read"
   ]
  },
  {
   "cell_type": "code",
   "execution_count": 14,
   "id": "90a96baa-aa40-402e-a6f4-a1c65439f696",
   "metadata": {},
   "outputs": [],
   "source": [
    "# Attributes\n",
    "shape = data.shape\n",
    "size = data.size\n",
    "types = data.dtype"
   ]
  },
  {
   "cell_type": "code",
   "execution_count": 17,
   "id": "55dc8e19-98fb-49b1-bdd1-8f150545f544",
   "metadata": {},
   "outputs": [
    {
     "data": {
      "text/plain": [
       "dtype('float64')"
      ]
     },
     "execution_count": 17,
     "metadata": {},
     "output_type": "execute_result"
    }
   ],
   "source": [
    "types"
   ]
  },
  {
   "cell_type": "code",
   "execution_count": 28,
   "id": "3dc3276f-464d-4622-9ad3-16ad1891a33f",
   "metadata": {},
   "outputs": [],
   "source": [
    "arr = data[0]\n",
    "slicer = data[0:2]\n",
    "slicerr = data[0][0:2]\n",
    "slicerrr = data[0][0][0:2]\n",
    "reverse = data[-1]\n",
    "singleval = data[0][0][0]"
   ]
  },
  {
   "cell_type": "code",
   "execution_count": 29,
   "id": "0d593e02-93cd-4b1f-806f-0bb2eb3bc392",
   "metadata": {},
   "outputs": [
    {
     "data": {
      "text/plain": [
       "array([0.78448058, 0.1142822 ])"
      ]
     },
     "execution_count": 29,
     "metadata": {},
     "output_type": "execute_result"
    }
   ],
   "source": [
    "slicerrr"
   ]
  },
  {
   "cell_type": "code",
   "execution_count": null,
   "id": "1709de78-259b-4661-b6b7-439f3e6aa36c",
   "metadata": {},
   "outputs": [],
   "source": []
  },
  {
   "cell_type": "markdown",
   "id": "6d5f5758-5ad5-4ba8-8c42-a82e0522a3cd",
   "metadata": {},
   "source": [
    "### 3. Update"
   ]
  },
  {
   "cell_type": "code",
   "execution_count": 30,
   "id": "86078ab4-af1c-448c-b376-6249e7956922",
   "metadata": {},
   "outputs": [],
   "source": [
    "list1 = np.random.rand(10)\n",
    "list2 = np.random.rand(10)"
   ]
  },
  {
   "cell_type": "code",
   "execution_count": 32,
   "id": "843cdcf3-8597-4a9d-85be-43a066f96cd7",
   "metadata": {},
   "outputs": [
    {
     "data": {
      "text/plain": [
       "array([0.26068464, 0.63835896, 0.96212842, 0.55405275, 0.71459168,\n",
       "       0.36058828, 0.80037947, 0.79839315, 0.30025306, 0.20642789])"
      ]
     },
     "execution_count": 32,
     "metadata": {},
     "output_type": "execute_result"
    }
   ],
   "source": [
    "list2"
   ]
  },
  {
   "cell_type": "code",
   "execution_count": 33,
   "id": "bebcbace-74a9-45af-9be3-39af03cae315",
   "metadata": {},
   "outputs": [],
   "source": [
    "# Basic Math\n",
    "add = np.add(list1, list2)\n",
    "sub = np.subtract(list1, list2)\n",
    "div = np.divide(list1, list2)\n",
    "mult = np.multiply(list1, list2)\n",
    "dot = np.dot(list1, list2)"
   ]
  },
  {
   "cell_type": "code",
   "execution_count": 39,
   "id": "59a2c94b-591a-4d12-8d14-14050a6e579d",
   "metadata": {},
   "outputs": [
    {
     "data": {
      "text/plain": [
       "2.6621307900645017"
      ]
     },
     "execution_count": 39,
     "metadata": {},
     "output_type": "execute_result"
    }
   ],
   "source": [
    "dot"
   ]
  },
  {
   "cell_type": "code",
   "execution_count": 41,
   "id": "5a2bd7e9-7042-40a9-87b4-28bd036ed5b3",
   "metadata": {},
   "outputs": [],
   "source": [
    "# Statistical Functions\n",
    "sqrt = np.sqrt(25)\n",
    "ab = np.abs(-2)\n",
    "power = np.power(2,7)\n",
    "log = np.log(25)\n",
    "exp = ([2,4])\n",
    "mins = np.min(list1)\n",
    "maxs = np.max(list1)"
   ]
  },
  {
   "cell_type": "code",
   "execution_count": 43,
   "id": "528980ae-3be4-4cc6-9272-81ed6ed664bd",
   "metadata": {},
   "outputs": [],
   "source": [
    "data[0][0][0] = 1"
   ]
  },
  {
   "cell_type": "code",
   "execution_count": 44,
   "id": "fa829101-428b-4cd5-9b70-85dbecb48e8f",
   "metadata": {},
   "outputs": [
    {
     "data": {
      "text/plain": [
       "array([[[1.        , 0.1142822 , 0.24284549, 0.4369313 ],\n",
       "        [0.04370722, 0.63624404, 0.80652204, 0.20136584],\n",
       "        [0.72111372, 0.19084844, 0.10071818, 0.71824752]],\n",
       "\n",
       "       [[0.46421879, 0.75013285, 0.80590974, 0.60220881],\n",
       "        [0.30802169, 0.36123011, 0.0597663 , 0.74061671],\n",
       "        [0.35211759, 0.25970032, 0.29258044, 0.53297083]]])"
      ]
     },
     "execution_count": 44,
     "metadata": {},
     "output_type": "execute_result"
    }
   ],
   "source": [
    "data"
   ]
  },
  {
   "cell_type": "code",
   "execution_count": 46,
   "id": "65ece781-c46d-436e-ae9b-6d5b3a2a11b1",
   "metadata": {},
   "outputs": [
    {
     "data": {
      "text/plain": [
       "array([[[0.1142822 , 0.24284549, 0.4369313 , 1.        ],\n",
       "        [0.04370722, 0.20136584, 0.63624404, 0.80652204],\n",
       "        [0.10071818, 0.19084844, 0.71824752, 0.72111372]],\n",
       "\n",
       "       [[0.46421879, 0.60220881, 0.75013285, 0.80590974],\n",
       "        [0.0597663 , 0.30802169, 0.36123011, 0.74061671],\n",
       "        [0.25970032, 0.29258044, 0.35211759, 0.53297083]]])"
      ]
     },
     "execution_count": 46,
     "metadata": {},
     "output_type": "execute_result"
    }
   ],
   "source": [
    "data.sort()\n",
    "data"
   ]
  },
  {
   "cell_type": "code",
   "execution_count": 47,
   "id": "67b7dbb4-82ea-409b-b698-37ffda45701a",
   "metadata": {},
   "outputs": [
    {
     "data": {
      "text/plain": [
       "(2, 3, 4)"
      ]
     },
     "execution_count": 47,
     "metadata": {},
     "output_type": "execute_result"
    }
   ],
   "source": [
    "data.shape"
   ]
  },
  {
   "cell_type": "code",
   "execution_count": 49,
   "id": "61dae7c5-aa08-461f-80a5-94a483581f68",
   "metadata": {},
   "outputs": [
    {
     "data": {
      "text/plain": [
       "(2, 2, 6)"
      ]
     },
     "execution_count": 49,
     "metadata": {},
     "output_type": "execute_result"
    }
   ],
   "source": [
    "data = data.reshape((2,2,-1))  # -1 means that we don't care about this value\n",
    "data.shape"
   ]
  },
  {
   "cell_type": "code",
   "execution_count": 50,
   "id": "dc9a37d5-7298-4269-9030-a0298135a7d3",
   "metadata": {},
   "outputs": [
    {
     "name": "stdout",
     "output_type": "stream",
     "text": [
      "[0. 0. 0. 0. 0. 0. 0. 0.]\n",
      "[0. 0. 0. 0. 0. 0. 0. 0. 3. 4.]\n"
     ]
    }
   ],
   "source": [
    "zeroes = np.zeros((8))\n",
    "print(zeroes)\n",
    "zeroes = np.append(zeroes, [3,4])\n",
    "print(zeroes)"
   ]
  },
  {
   "cell_type": "code",
   "execution_count": 52,
   "id": "be896039-f3a6-45d7-b9f0-cd3cdc28a985",
   "metadata": {},
   "outputs": [
    {
     "name": "stdout",
     "output_type": "stream",
     "text": [
      "[0. 0. 1. 1. 0. 0. 0. 0. 0. 0. 3. 4.]\n"
     ]
    }
   ],
   "source": [
    "zeroes = np.insert(zeroes, 2, 1) #inserts 1 in 2nd index\n",
    "print(zeroes)"
   ]
  },
  {
   "cell_type": "markdown",
   "id": "f1788f9f-9871-41cd-9444-aa4b39a05303",
   "metadata": {},
   "source": [
    "### 4. Delete"
   ]
  },
  {
   "cell_type": "code",
   "execution_count": 53,
   "id": "30b0bafb-fa8d-4b50-9b81-a9bd066e0ad7",
   "metadata": {},
   "outputs": [
    {
     "data": {
      "text/plain": [
       "array([[[0.1142822 , 0.24284549, 0.4369313 , 1.        , 0.04370722,\n",
       "         0.20136584],\n",
       "        [0.63624404, 0.80652204, 0.10071818, 0.19084844, 0.71824752,\n",
       "         0.72111372]],\n",
       "\n",
       "       [[0.46421879, 0.60220881, 0.75013285, 0.80590974, 0.0597663 ,\n",
       "         0.30802169],\n",
       "        [0.36123011, 0.74061671, 0.25970032, 0.29258044, 0.35211759,\n",
       "         0.53297083]]])"
      ]
     },
     "execution_count": 53,
     "metadata": {},
     "output_type": "execute_result"
    }
   ],
   "source": [
    "data"
   ]
  },
  {
   "cell_type": "code",
   "execution_count": 55,
   "id": "fefac8cf-1e59-4923-8b97-27cf7d2e7620",
   "metadata": {},
   "outputs": [
    {
     "data": {
      "text/plain": [
       "array([[[0.63624404, 0.80652204, 0.10071818, 0.19084844, 0.71824752,\n",
       "         0.72111372]],\n",
       "\n",
       "       [[0.36123011, 0.74061671, 0.25970032, 0.29258044, 0.35211759,\n",
       "         0.53297083]]])"
      ]
     },
     "execution_count": 55,
     "metadata": {},
     "output_type": "execute_result"
    }
   ],
   "source": [
    "np.delete(data, 0, axis=1) #which level of array we want to delete. axis = 1, specifying we want to delete row"
   ]
  },
  {
   "cell_type": "code",
   "execution_count": 57,
   "id": "670a70c5-ef97-4ed1-8a5b-6babed5ed941",
   "metadata": {},
   "outputs": [],
   "source": [
    "np.save(\"new array\", data) #saves the array as a file in the same directory"
   ]
  },
  {
   "cell_type": "code",
   "execution_count": 59,
   "id": "9d1e6d6c-bfc8-4391-8db1-d2b0a2a38979",
   "metadata": {},
   "outputs": [
    {
     "data": {
      "text/plain": [
       "array([[[0.1142822 , 0.24284549, 0.4369313 , 1.        , 0.04370722,\n",
       "         0.20136584],\n",
       "        [0.63624404, 0.80652204, 0.10071818, 0.19084844, 0.71824752,\n",
       "         0.72111372]],\n",
       "\n",
       "       [[0.46421879, 0.60220881, 0.75013285, 0.80590974, 0.0597663 ,\n",
       "         0.30802169],\n",
       "        [0.36123011, 0.74061671, 0.25970032, 0.29258044, 0.35211759,\n",
       "         0.53297083]]])"
      ]
     },
     "execution_count": 59,
     "metadata": {},
     "output_type": "execute_result"
    }
   ],
   "source": [
    "test = np.load(\"new array.npy\")\n",
    "test"
   ]
  },
  {
   "cell_type": "code",
   "execution_count": null,
   "id": "62eafde1-77c4-4b44-bf3f-438f133db3fb",
   "metadata": {},
   "outputs": [],
   "source": []
  }
 ],
 "metadata": {
  "kernelspec": {
   "display_name": "Python 3 (ipykernel)",
   "language": "python",
   "name": "python3"
  },
  "language_info": {
   "codemirror_mode": {
    "name": "ipython",
    "version": 3
   },
   "file_extension": ".py",
   "mimetype": "text/x-python",
   "name": "python",
   "nbconvert_exporter": "python",
   "pygments_lexer": "ipython3",
   "version": "3.11.7"
  }
 },
 "nbformat": 4,
 "nbformat_minor": 5
}
